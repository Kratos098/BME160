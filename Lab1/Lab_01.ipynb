{
 "cells": [
  {
   "cell_type": "markdown",
   "metadata": {},
   "source": [
    "###### Deliverables:  30 total points\n",
    "  - helloMe 4 points\n",
    "  - helloAgain 5 points\n",
    "  - myBio 6 points\n",
    "  - countAT-bugsSoln 9 points\n",
    "  - countNucleotides 6 points\n",
    "     \n",
    "## Due: Monday January 11, 2021 11:55pm \n",
    "## Lab 1 – Introduction to Python (30 points)\n",
    "Work in pairs. Find youself a partner who you will hopefully work with throughout the quarter.\n",
    "Although you are required to turn in independent code and answers yourself, you are encouraged to ask questions and work with each other to solve these exercises. Programming has a lot of area-specific vocabulary and concepts so it is often extremely helpful to ask for help when you run up against hurdles. Make sure to include your partners name as a comment in the first few lines of your program, like this:"
   ]
  },
  {
   "cell_type": "code",
   "execution_count": 3,
   "metadata": {},
   "outputs": [],
   "source": [
    "#!/usr/bin/env python3\n",
    "# Name: Manishankar Bhaskaran (mbhaska1)\n",
    "# Group Members: Natalie Bratset (nbratset)"
   ]
  },
  {
   "cell_type": "markdown",
   "metadata": {},
   "source": [
    "## Setup your workspace\n",
    "### Install Anaconda on your machine\n",
    "From the machine that you intend to do all of your work for BME 160, go to: https://www.anaconda.com/distribution/\n",
    "From that page, select the Python 3.8 version by using the download button. This may take awhile, depending on your internet connection speed.\n",
    "### MacOS BigSur issue\n",
    "For those of you who happen to be using Big Sur, this install isnt quite right. Check out: https://towardsdatascience.com/install-anaconda-on-macos-big-sur-9fbd7c4b6c24\n",
    "This will be resolved when Anaconda gets to version 3.9. Until then, if you aren't on Big Sur, you might want to wait. I can show you some options though .. I am using Python3.9 with Pycharm on Big Sur.\n",
    "\n",
    "### Downloading your first notebook\n",
    "The document you are now reading is a jupyter notebook. It is available for download using our class website service Canvas. \n",
    "First we will need to create a folder that you’ll use for this lab. To do this create a folder called bme160 on the desktop.\n",
    "From Canvas :: files :: jupyter, download Lab01.ipynb, and place it into your bme160 folder.\n",
    "\n",
    "There are five programs you will need to write. They are all embedded in Lab01.ipynb as jupyter \"cells\". Make sure to place Lab01.ipynb into your Lab01 folder.\n",
    "### Accessing Jupyter\n",
    "####  Open jupyter\n",
    "\n",
    "There are a number of ways to startup jupyter. Here are a few:\n",
    " -  LocalHost  Open _terminal_ ( located in the utilities folder on MacOS ), then change to the Lab01 directory and startup: jupyter notebook\n",
    " - https://try.jupyter.org you will then need to upload Lab 01.ipynb to that remote server. This server enforces a 10-minute inactivity limit, so you will need to save your work often. Note that this remote server sometimes doesnt run.\n",
    " - Anaconda Navigator. Startup Anaconda, then select: jupyter notebook. From Jupyter, you can then navigate to your Desktop, then to bme160, and then open Lab01.ipynb. That should bring you to a page that looks just like the Lab01 assignment.\n",
    "\n",
    "Try out __jupyter__ by selecting the following cell, then push the \"run\" button in the toolbar above, or pull down the _Cell_ menu above and select Run Cells. Notice that cells that contain runable code start with In [ ]: "
   ]
  },
  {
   "cell_type": "code",
   "execution_count": 4,
   "metadata": {},
   "outputs": [
    {
     "output_type": "stream",
     "name": "stdout",
     "text": [
      "hello Barak\n"
     ]
    }
   ],
   "source": [
    "print ('hello Barak')"
   ]
  },
  {
   "cell_type": "markdown",
   "metadata": {},
   "source": [
    "make sure that “hello” is returned.\n",
    "\n",
    "From here on, you will be writing programs. \n",
    "## First python program\n",
    "The hello.py program is one of the first python programs that people write.\n",
    "\n",
    "Documenting code is an important and often overlooked process in software engineering. Don’t fall into the trap of not adding comments to your code! Note, you will not receive full credit on your assignment if your code is not clearly documented. To add comments you use the ’#’ character for single line comments, or you can use triple-quotes (“””) to begin a block of comments and then add another set of triple-quotes to end that block comment.\n",
    "\n",
    "To get an idea of what documenting and comments look like, here is an old-school version of the ’hello.py’ program,  documented:"
   ]
  },
  {
   "cell_type": "code",
   "execution_count": 5,
   "metadata": {},
   "outputs": [
    {
     "output_type": "stream",
     "name": "stdout",
     "text": [
      "Hello World\n"
     ]
    }
   ],
   "source": [
    "#!/usr/bin/env python3\n",
    "# Name: David Bernick (dbernick)\n",
    "# Group Members: John Cleese (jcleese) and Eric Idle (eidle)\n",
    "\n",
    "\"\"\"\n",
    "Print out the string Hello World when run.\n",
    "\"\"\"\n",
    "# remember that strings in python use either single (') or double (\") quotes.\n",
    "print (\"Hello World\")"
   ]
  },
  {
   "cell_type": "markdown",
   "metadata": {},
   "source": [
    "Add your own similar-looking documentation and comments to the the following code, customizing it for yourself, and lets make it print: Hello __your name__ instead. In my case, it would print \"Hello David\""
   ]
  },
  {
   "cell_type": "markdown",
   "metadata": {},
   "source": [
    "## helloMe"
   ]
  },
  {
   "cell_type": "code",
   "execution_count": 6,
   "metadata": {},
   "outputs": [
    {
     "output_type": "stream",
     "name": "stdout",
     "text": [
      "Hello Mani\n"
     ]
    }
   ],
   "source": [
    "#!/usr/bin/env python3\n",
    "# Name: Manishankar Bhaskaran (mbhaska1)\n",
    "# Group Members: Natalie Bratset (nbratset)\n",
    "\n",
    "\"\"\"\n",
    "Print out the most common statement in computer programming, Hello Mani.\n",
    "\"\"\" \n",
    "class Announcer (str): # Announcer is now defined as a kind of python string.\n",
    "    # printMe prints str passed in through self\n",
    "    def printMe (self):\n",
    "        print(self)\n",
    "\n",
    "student = Announcer('Hello Mani') # created an instance of the Announcer class called student and assigned it a string \"Hello Mani\"\n",
    "student.printMe()                 # called the printMe method of the Announcer class, which will print \"Hello Mani\""
   ]
  },
  {
   "cell_type": "markdown",
   "metadata": {},
   "source": [
    "There are a few things to mention about this style of coding. Classes are templates for _objects_. The _announcer_ class is a kind of _string_ class, and we tell python that by including (str) after the name of the class. We have added a method ( printme) to the announcer class, and that method allows objects of class announcer to _print_ themselves. In python, we access data that is saved in an object using the word _self_. Since objects of this class are strings, _self_ refers to the data ('Hello David' in this case). You will notice that python methods are defined using the keyword: def _name_ ( self, parameters)\n",
    "\n",
    "The line: _student = announcer ('Hello David')_ creates a new name (student), of class _announcer_ and it is given a parameter _'Hello David'_. That parameter is given to announcer as its data. Objects of class announcer refer to that data using the name _self_. \n",
    "\n",
    "The line: _student.printme()_ sends a printme() message to the student object, and the student object then prints out its data."
   ]
  },
  {
   "cell_type": "markdown",
   "metadata": {},
   "source": [
    "## Return of “Hello World”\n",
    "We will now take a look at a more sophisticated, second person version of _helloMe_. \n",
    "As currently written, it should ask you to enter a name; you type in the name and then press the _enter_ key (maybe labelled return).\n",
    "\n",
    "The output you should see is:\n",
    "\n",
    "Hi there, I am _name_\n",
    "\n",
    "Look at _helloAgain_ below. You’ll notice that it’s more complex and longer than _helloMe_. \n",
    "Now modify _helloAgain_ so that, in addition to asking for that person’s name, the program also prompts the user for their favorite pet like this:\n",
    "\n",
    "“What is your favorite pet? :”\n",
    "\n",
    "To make this clearer, here are a few lines that belong in your revised _helloAgain_."
   ]
  },
  {
   "cell_type": "code",
   "execution_count": 7,
   "metadata": {},
   "outputs": [],
   "source": [
    "# name = input( \"What is your name? : \" )\n",
    "# pet = input( \"What is your favorite kind of pet? : \")\n",
    "# newPerson = Person(name, pet)\n",
    "# newPerson.introduce()"
   ]
  },
  {
   "cell_type": "markdown",
   "metadata": {},
   "source": [
    "### helloAgain"
   ]
  },
  {
   "cell_type": "code",
   "execution_count": 8,
   "metadata": {},
   "outputs": [
    {
     "output_type": "stream",
     "name": "stdout",
     "text": [
      "Hi there, I am Mani, and I like dogs.\n"
     ]
    }
   ],
   "source": [
    "#!/usr/bin/env python3\n",
    "# Name: Manishankar Bhaskaran (mbhaska1)\n",
    "# Group Members: Natalie Bratset (nbratset)\n",
    "\n",
    "\"\"\"\n",
    "Build a Person object and have it introduce itself and its favorite pet.\n",
    "\n",
    "input: a string name and a string pet of arbitrary length, which will be used as values for a new person object\n",
    "output: greeting printed to screen\n",
    "\"\"\"\n",
    "class Person:\n",
    "    # assign the passed in strings name and pet to the instance\n",
    "    def __init__(self,name,pet):\n",
    "        self.myName = name\n",
    "        self.myPet  = pet\n",
    "    \n",
    "    # print a string containing the name and the favorite pet of the instance\n",
    "    def introduce (self):\n",
    "        print(\"Hi there, I am {0}, and I like {1}s.\".format(self.myName,self.myPet))\n",
    "\n",
    "# put your new code here.\n",
    "name = input(\"What is your name?: \" )                # Ask the user for their name and store the string in \"name\"\n",
    "pet  = input(\"What is your favorite kind of pet?: \") # Ask the user for their pet and store the string in \"pet\"\n",
    "newPerson = Person(name, pet)                         # Create a new instance of the Person class named newPerson with the variables name and pet\n",
    "newPerson.introduce()                                 # Call the introduce method of the newPerson"
   ]
  },
  {
   "cell_type": "markdown",
   "metadata": {},
   "source": [
    "Your new version of _helloAgain_ should now print something that looks like this: \n",
    "\n",
    "“Hi there, I am _name_ and I like _pets_ !”\n",
    "\n",
    "replacing the italicized text with what the user entered at the command line. Note the statement uses a plural form by appending the letter s, your program should do this too.\n",
    "\n",
    "So, if you decided that your new person is named Fred, and Fred is fond of his pet aardvark, then your program would\n",
    "output:\n",
    "\n",
    "Hi there, I am Fred and I like aardvarks!\n",
    "\n",
    "Remember to save and add documentation/comments to _helloAgain_ ."
   ]
  },
  {
   "cell_type": "markdown",
   "metadata": {},
   "source": [
    "## Brief Biography Program\n",
    "Now that you’ve gotten a little experience programming and seen a few python programs, next you’ll write a program that will do the following:\n",
    "\n",
    "  - Print your full name (first and last)\n",
    "  - Print your CATS/CruzMail username\n",
    "  - Print whether your are an undergraduate or graduate student\n",
    "  - Print your major\n",
    "  - Print why you are taking this class and what you hope to get out of it\n",
    "  - What problem in molecular biology most interests you.\n",
    "  - Print your prior computer programming experience\n",
    "\n",
    "This program should NOT ask the user for this data. This data should be constants in your program. The constants should NOT be part of the person class -- use parameters that are given to your person object when it is instantiated. \n",
    "The name of the program is “myBio” and a sample execution of the program should look something like this:\n",
    "\n",
    "My name is _**David Bernick**_. <br>\n",
    "My username is _**dbernick**_. <br>\n",
    "I am a _**professor**_. <br>\n",
    "My major is _**Bioinformatics and Biomolecular Engineering**_. <br>\n",
    "_**I’m  not taking this class, but I teach it**_. <br>\n",
    "_**I am a synthetic bioengineer and I’m interested in  extreme life, especially hypertherthermophiles and hypersalinophiles, with a focus on small RNA and novel proteins from extreme viruses.**_ <br>\n",
    "I have prior programming experience using _**Python, Perl, Java, Fortran, Pascal, PL/1, ADA, Basic,TPL, APL, Assembly, and C++ (Im not very fond of this though)**_. <br>\n",
    "\n",
    "Each piece of info should occupy only a single line.\n",
    "\n",
    "In order to get full credit, the program must use attributes of the person class for each of the _**emphasized strings**_ above and contain appropriate documentation/comments. \n",
    "\n",
    "Note that in Python, *names* that are part of a class are called *attributes*. Functions that are part of a class are called *methods*. In other languages, *names* are sometimes called *variables*."
   ]
  },
  {
   "cell_type": "markdown",
   "metadata": {},
   "source": [
    "### myBio"
   ]
  },
  {
   "cell_type": "code",
   "execution_count": 9,
   "metadata": {},
   "outputs": [
    {
     "output_type": "stream",
     "name": "stdout",
     "text": [
      "Hi there, I am Manishankar Bhaskaran.\nMy username is mbhaska1.\nI am a(n) undergraduate.\nMy major is computer science.\nI am taking this class to explore the different fields of computer science and I hope to determine if biology-related computer science is for me.\nI am interested in telomere-to-telomere genome sequencing.\nI have prior programming experience using C, C++, Java, Python, JavaScript.\n"
     ]
    }
   ],
   "source": [
    "#!/usr/bin/env python3\n",
    "# Name: Manishankar Bhaskaran (mbhaska1)\n",
    "# Group Members: Natalie Bratset (nbratset)\n",
    "\n",
    "\"\"\"\n",
    "Build a Person object and have it introduce itself.\n",
    "\n",
    "input:  seven strings of arbitrary length used to create a new Person object\n",
    "output: seven strings describing the Person that we create\n",
    "\"\"\"\n",
    "class Person:\n",
    "    # assign given variables to this instance of Person\n",
    "    def __init__(self, name, userName, graduateStatus, major, reason, problem, experience):\n",
    "        self.myName           = name              \n",
    "        self.myUserName       = userName\n",
    "        self.mygraduateStatus = graduateStatus\n",
    "        self.myMajor          = major\n",
    "        self.myReason         = reason\n",
    "        self.myProblem        = problem\n",
    "        self.myExperience     = experience\n",
    "\n",
    "    # print required strings using variables of this instance of Person\n",
    "    def introduce(self):\n",
    "        print(\"Hi there, I am \"   + str(self.myName) + \".\")\n",
    "        print(\"My username is \"   + str(self.myUserName) + \".\")\n",
    "        print(\"I am a(n) \"        + str(self.mygraduateStatus) + \".\")\n",
    "        print(\"My major is \"      + str(self.myMajor) + \".\")\n",
    "        print(str(self.myReason)  + \".\")\n",
    "        print(str(self.myProblem) + \".\")\n",
    "        print(\"I have prior programming experience using \" + str(self.myExperience) + \".\")\n",
    "\n",
    "# define neccesary variables for our new Person \n",
    "name           = \"Manishankar Bhaskaran\"\n",
    "userName       = \"mbhaska1\"\n",
    "graduateStatus = \"undergraduate\"\n",
    "major          = \"computer science\"\n",
    "reason         = \"I am taking this class to explore the different fields of computer science and I hope to determine if biology-related computer science is for me\"\n",
    "problem        = \"I am interested in telomere-to-telomere genome sequencing\"\n",
    "experience     = \"C, C++, Java, Python, JavaScript\"\n",
    "\n",
    "myPerson = Person(name, userName, graduateStatus, major, reason, problem, experience) # create a new instance of the Person class named myPerson using the variables that we defined above\n",
    "myPerson.introduce() # call the introduce method of the Person class to introduce myPerson"
   ]
  },
  {
   "cell_type": "markdown",
   "metadata": {},
   "source": [
    "## Debug buggy code\n",
    "Practice makes us better; usually debugging makes code closer to perfect. \n",
    "This program is supposed to ask the user to enter a DNA sequence and then output the AT content of the sequence— total number of As and Ts divided by the sequence length—as a fraction of the total sequence length (a number between 0 and 1).\n",
    "\n",
    "For example, given the string:\n",
    "\n",
    "AAAATGAATGGCTAACTTTTGAA\n",
    "\n",
    "the program should output: (make sure that you pay attention to the number of significant digits in the output!)\n",
    "\n",
    "AT content = 0.739\n",
    "\n",
    "Unfortunately there are a few bugs in the program. Your task is to identify and correct those bugs. This part of the assignment is to help familiarize you with the debugging process. It is possible to identify the bugs without using any of the following techniques just by looking over the program, but this will be good practice and will be essential when your code gets more complex.\n",
    "\n",
    "To debug countAT-bugs.py, run the program, which will produce an error. Figure out what the error is and correct the code. It’s likely that after you correct the first error you will notice another error. Repeat this process until you fix all the bugs and the program runs properly.\n",
    "\n",
    "Save a corrected copy of the program called countAT-bugsSoln.py that includes: \n",
    "  - Documentation and comments\n",
    "  - A program overview that includes how many bugs you found and what lines from the original file they were found at."
   ]
  },
  {
   "cell_type": "markdown",
   "metadata": {},
   "source": [
    "## countAT-bugs"
   ]
  },
  {
   "cell_type": "code",
   "execution_count": 2,
   "metadata": {},
   "outputs": [
    {
     "output_type": "stream",
     "name": "stdout",
     "text": [
      "AT content = 0.739\n"
     ]
    }
   ],
   "source": [
    "#!/usr/bin/env python3\n",
    "# Name: Manishankar Bhaskaran (mbhaska1)\n",
    "# Group Members: Natalie Bratset (nbratset)\n",
    "\n",
    "\"\"\"\n",
    "Build a dnaString object\n",
    "\n",
    "input:  a string of arbitrary length, which will contain a dna string\n",
    "output: the number of AT pairs in the dna string\n",
    "\"\"\"\n",
    "class dnaString (str):\n",
    "    def length (self):\n",
    "        return (len(self))\n",
    "\n",
    "    def getAT (self):\n",
    "        num_A = self.count(\"A\") # Forgot the quotes around A\n",
    "        num_T = self.count(\"T\")\n",
    "        return (num_A + num_T) / self.length() # called the method as len() instead of length()\n",
    "\n",
    "dna = input(\"Enter a dna sequence: \") # store the dna sequence input string in dna\n",
    "upperDNA = dna.upper()                # upperDNA will contain the uppercase version of dna\n",
    "coolString = dnaString(upperDNA)      # create an instance of the dnaString class called coolString and pass in the string upperDNA\n",
    "\n",
    "# I used https://stackoverflow.com/questions/45593015/python-format-function-1-decimal-place for help with truncation\n",
    "print(\"AT content = {0:5.3f}\".format(coolString.getAT())) # print the AT content of the input string rounded to three decimal places."
   ]
  },
  {
   "cell_type": "markdown",
   "metadata": {},
   "source": [
    "## Counting DNA Letters \n",
    "Now that you are inspired by your ability to debug the countAT-bugs code, let's create a new program that will ask the user to enter a DNA sequence and then output the total sequence length and \n",
    "the number of each base {total As, Cs, Gs, Ts} found in the sequence. \n",
    "For example, given the string:\n",
    "\n",
    "AAAATGAATGGCTAACTTTTGAA\n",
    "\n",
    "the program should output:\n",
    "\n",
    "Your sequence is 23 nucleotides long with the following breakdown of bases:\n",
    "\n",
    "number As = 10\n",
    "number Cs = 2\n",
    "number Gs = 4\n",
    "number Ts = 7\n",
    "\n",
    "Write a program called countNucleotides (put it below) that will take in a DNA sequence entered by a user and produce the outputs specified above. Note that \"specified\" means ... \"required\"\n",
    "\n",
    "To get full credit on this assignment, your code needs to:\n",
    "\n",
    "  * Run properly\n",
    "  * Contain documentation/comments\n",
    "  * Include an overview about what your program is designed to do with expected inputs and outputs. Use a MarkDown Cell to write your overview."
   ]
  },
  {
   "cell_type": "markdown",
   "metadata": {},
   "source": [
    "### countNucleotides\n",
    "\n",
    "### Build a dnaString object and output the number of each nucleotide \n",
    "###  input:  a string of arbitrary length, which will contain a dna string\n",
    "### output: the number each nucleotide in the given dna string"
   ]
  },
  {
   "cell_type": "code",
   "execution_count": 1,
   "metadata": {},
   "outputs": [
    {
     "output_type": "stream",
     "name": "stdout",
     "text": [
      "number As = 10 number Cs = 2 number Gs = 4 number Ts = 7\n"
     ]
    }
   ],
   "source": [
    "#!/usr/bin/env python3\n",
    "# Name: Manishankar Bhaskaran (mbhaska1)\n",
    "# Group Members: Natalie Bratset (nbratset)\n",
    "\n",
    "\"\"\"\n",
    "Build a dnaString object\n",
    "\n",
    "input:  a string of arbitrary length, which will contain a dna string\n",
    "output: the number of each nucleotide in the given dna string\n",
    "\"\"\"\n",
    "class dnaString (str):\n",
    "    # return the number of each nucleotide in the passed in string\n",
    "    def countDNA (self):\n",
    "        print(\"number As = \" + str(self.count(\"A\")) + \" number Cs = \" + str(self.count(\"C\")) + \" number Gs = \" + str(self.count(\"G\")) + \" number Ts = \" + str(self.count(\"T\")))\n",
    "\n",
    "dna = input(\"Enter a dna sequence: \") # store the dna sequence input string in dna\n",
    "upperDNA = dna.upper()                # upperDNA will contain the uppercase version of dna\n",
    "coolString = dnaString(upperDNA)      # create an instance of the dnaString class called coolString and pass in the string upperDNA\n",
    "coolString.countDNA()                 # call the countDNA method of the dnaString class that will print the number of each nucleotide in the given dna string"
   ]
  },
  {
   "cell_type": "markdown",
   "metadata": {},
   "source": [
    "## Submit your code and answers\n",
    "Important: please save your work before logging out of the computer. This will ensure that you have a copy of your work and you will avoid having to redo everything in the event that something happens. The two recommended solutions (pick one) at this point are to:\n",
    "\n",
    "  - Email your jupyter notebook to yourself\n",
    "  - Copy your notebook to a pen drive\n",
    "  \n",
    "The class will be using canvas to submit the notebook created as part of this lab assignment.\n",
    "\n",
    "For this lab, you should upload your notebook with the following cells filled in\n",
    "\n",
    "  * helloMe 4 points\n",
    "  * helloAgain 5 points\n",
    "  * myBio 6 points\n",
    "  * countAT-bugsSoln 9 points\n",
    "  * countNucleotides 6 points \n",
    "\n",
    "Important: to get full credit on this lab assignment, everything needs to\n",
    "\n",
    "  * Run properly\n",
    "  * Contain informative documentation/comment, including your name and your partner\n",
    "  * be your own work\n",
    "\n",
    "Congratulations, you finished your first lab assignment!"
   ]
  }
 ],
 "metadata": {
  "kernelspec": {
   "name": "python3",
   "display_name": "Python 3.7.3 64-bit",
   "metadata": {
    "interpreter": {
     "hash": "57baa5815c940fdaff4d14510622de9616cae602444507ba5d0b6727c008cbd6"
    }
   }
  },
  "language_info": {
   "codemirror_mode": {
    "name": "ipython",
    "version": 3
   },
   "file_extension": ".py",
   "mimetype": "text/x-python",
   "name": "python",
   "nbconvert_exporter": "python",
   "pygments_lexer": "ipython3",
   "version": "3.7.3-final"
  }
 },
 "nbformat": 4,
 "nbformat_minor": 2
}